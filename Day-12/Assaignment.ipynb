{
  "nbformat": 4,
  "nbformat_minor": 0,
  "metadata": {
    "colab": {
      "name": "Untitled5.ipynb",
      "provenance": []
    },
    "kernelspec": {
      "name": "python3",
      "display_name": "Python 3"
    }
  },
  "cells": [
    {
      "cell_type": "code",
      "metadata": {
        "id": "d92gY1DnKGQB",
        "colab_type": "code",
        "colab": {}
      },
      "source": [
        "import matplotlib.pyplot as plt\n",
        "import pandas as pd\n",
        "import seaborn as sns\n",
        "from scipy.stats import pearsonr\n",
        "\n",
        "\n",
        "data=pd.read_csv('D:\\LetsUpgrade\\Day-11\\general_data.csv')\n",
        "data=data.drop_duplicates()\n",
        "print(data.head())\n",
        "print(data.columns)\n",
        "\n",
        "#checking for null values\n",
        "\n",
        "print(data.isnull().sum())\n",
        "\n",
        "data=data.dropna(axis=0)\n",
        "print(data.columns)\n",
        "print(data.isnull().sum())\n",
        "print(data.dtypes)\n",
        "print(data.describe())\n",
        "\n",
        "# Reassign target\n",
        "data.Attrition.replace(to_replace = dict(Yes = 1, No = 0), inplace = True)\n",
        "# Drop useless feat\n",
        "data = data.drop(columns=['StandardHours', \n",
        "                          'EmployeeCount', \n",
        "                          'Over18','EmployeeID'\n",
        "                        ])\n",
        "\n",
        "print(data.head())\n",
        "Attrition_people=data[data['Attrition']==1]\n",
        "k=Attrition_people.describe()\n",
        "non_Att_p=data[data['Attrition']==0]\n",
        "f=non_Att_p.describe()\n",
        "from scipy.stats import mannwhitneyu\n",
        "col=['Age','DistanceFromHome','JobLevel','MonthlyIncome','PercentSalaryHike','YearsSinceLastPromotion','YearsAtCompany','YearsWithCurrManager','TotalWorkingYears','NumCompaniesWorked']\n",
        "\n",
        "p_values=[]\n",
        "for i in col:\n",
        "    stats,p=mannwhitneyu(Attrition_people[i],non_Att_p[i])\n",
        "    p_values.append(p)\n"
      ],
      "execution_count": null,
      "outputs": []
    },
    {
      "cell_type": "markdown",
      "metadata": {
        "id": "dSN3qM1YKYF1",
        "colab_type": "text"
      },
      "source": [
        "INFERENCES:\n",
        " 1:since Age p value is less 0.05,there is no significance effect on attrition with age\n",
        "  2:since Distance from home p values >0.05,there is significance effect on attrition with  Distance from home\n",
        "  3:since JobLevel p values >0.05,there is significance effect on attrition with  JobLevel\n",
        "  4:since MonthlyIncome p values >0.05,there is significance effect on attrition with  MonthlyIncome\n",
        "  5:since PercentSalaryHike p value is less 0.05,there is no significance effect on attrition with PercentSalaryHike\n",
        "  6:since YearsSinceLastPromotion p value is less 0.05,there is no significance effect on attrition with YearsSinceLastPromotion\n",
        "  7:since YearsAtCompany p value is less 0.05,there is no significance effect on attrition with YearsAtCompany\n",
        "  8:since YearsWithCurrManager p value is less 0.05,there is no significance effect on attrition with YearsWithCurrManager\n",
        "  9:since TotalWorkingYears p value is less 0.05,there is no significance effect on attrition with TotalWorkingYears\n",
        "  10:since NumCompaniesWorked p value is less 0.05,there is no significance effect on attrition with NumCompaniesWorked\n",
        "CONCLUSION:\n",
        "        the people who are having less distance to the company, will have high chance to stay and joblevel is high,curning may decrease and increase in monthlyincome may decrease the attrition rate\n",
        "SOLUTION:\n",
        "        the people from long distamce to company ,increase in monthly income to those people may decrease attrition rate and if the joblevel is increased to the capable people ,may reduce the attrtition rate\n",
        "        \n",
        "'''\n"
      ]
    }
  ]
}