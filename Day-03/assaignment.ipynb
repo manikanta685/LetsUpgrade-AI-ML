{
  "nbformat": 4,
  "nbformat_minor": 0,
  "metadata": {
    "colab": {
      "name": "Untitled0.ipynb",
      "provenance": []
    },
    "kernelspec": {
      "name": "python3",
      "display_name": "Python 3"
    }
  },
  "cells": [
    {
      "cell_type": "code",
      "metadata": {
        "id": "IVGJTHWBDloW",
        "colab_type": "code",
        "colab": {
          "base_uri": "https://localhost:8080/",
          "height": 34
        },
        "outputId": "c528c1d4-a6a0-4161-b0a0-0a7ebd24ffcf"
      },
      "source": [
        "z1=complex(1,2)\n",
        "z2=complex(3,4)\n",
        "print(\"subraction of two complex no's:\",z1-z2)"
      ],
      "execution_count": 1,
      "outputs": [
        {
          "output_type": "stream",
          "text": [
            "subraction of two complex no's: (-2-2j)\n"
          ],
          "name": "stdout"
        }
      ]
    },
    {
      "cell_type": "code",
      "metadata": {
        "id": "ugSyP_GmGlai",
        "colab_type": "code",
        "colab": {
          "base_uri": "https://localhost:8080/",
          "height": 50
        },
        "outputId": "6a86a7ba-9986-4fa9-d770-c93ae067703d"
      },
      "source": [
        "a=int(input(\"enter number\"))\n",
        "print(\"fourth root of a number:\",a**(1/4))"
      ],
      "execution_count": 2,
      "outputs": [
        {
          "output_type": "stream",
          "text": [
            "enter number16\n",
            "fourth root of a number: 2.0\n"
          ],
          "name": "stdout"
        }
      ]
    },
    {
      "cell_type": "code",
      "metadata": {
        "id": "YtlbWjoWK7Fd",
        "colab_type": "code",
        "colab": {
          "base_uri": "https://localhost:8080/",
          "height": 67
        },
        "outputId": "ed4c9cad-86f1-4ef4-b7bb-8d2e5a84f590"
      },
      "source": [
        "a=int(input(\"enter no.\"))\n",
        "b=int(input(\"enter no.\"))\n",
        "t=a;a=b;b=t\n",
        "print(\"after swapping:\",a,b)"
      ],
      "execution_count": 3,
      "outputs": [
        {
          "output_type": "stream",
          "text": [
            "enter no.2\n",
            "enter no.3\n",
            "after swapping: 3 2\n"
          ],
          "name": "stdout"
        }
      ]
    },
    {
      "cell_type": "code",
      "metadata": {
        "id": "-_-phmGBLUOh",
        "colab_type": "code",
        "colab": {
          "base_uri": "https://localhost:8080/",
          "height": 67
        },
        "outputId": "d16a993f-6498-4c8d-94a8-336ee2f85e55"
      },
      "source": [
        "a=int(input(\"enter no.\"))\n",
        "b=int(input(\"enter no.\"))\n",
        "a,b=b,a\n",
        "print(\"after swapping\",a,b)"
      ],
      "execution_count": 4,
      "outputs": [
        {
          "output_type": "stream",
          "text": [
            "enter no.2\n",
            "enter no.3\n",
            "after swapping 3 2\n"
          ],
          "name": "stdout"
        }
      ]
    },
    {
      "cell_type": "code",
      "metadata": {
        "id": "vAG3cc5-LrL2",
        "colab_type": "code",
        "colab": {
          "base_uri": "https://localhost:8080/",
          "height": 67
        },
        "outputId": "c4cd0577-e3a7-4458-adfa-a944666b8c35"
      },
      "source": [
        "a=float(input(\"enter n0. in fahrenheit\"))\n",
        "b=(a-32)*5/9\n",
        "c=(a-32)*(5/9)+273.15\n",
        "print(\"celsius:\",b)\n",
        "print(\"kelvin:\",c)"
      ],
      "execution_count": 3,
      "outputs": [
        {
          "output_type": "stream",
          "text": [
            "enter n0. in fahrenheit568\n",
            "celsius: 297.77777777777777\n",
            "kelvin: 570.9277777777777\n"
          ],
          "name": "stdout"
        }
      ]
    },
    {
      "cell_type": "code",
      "metadata": {
        "id": "w-0VH29tNwtl",
        "colab_type": "code",
        "colab": {
          "base_uri": "https://localhost:8080/",
          "height": 101
        },
        "outputId": "743bb971-6f9c-48a1-dec3-c1ee8ca6743b"
      },
      "source": [
        "a=2\n",
        "b=2.3\n",
        "c='string'\n",
        "d=complex(2,3)\n",
        "e=bool(1)\n",
        "print(type(a))\n",
        "print(type(b))\n",
        "print(type(c))\n",
        "print(type(d))\n",
        "print(type(e))"
      ],
      "execution_count": 13,
      "outputs": [
        {
          "output_type": "stream",
          "text": [
            "<class 'int'>\n",
            "<class 'float'>\n",
            "<class 'str'>\n",
            "<class 'complex'>\n",
            "<class 'bool'>\n"
          ],
          "name": "stdout"
        }
      ]
    },
    {
      "cell_type": "code",
      "metadata": {
        "id": "vCsuXKFEPVYQ",
        "colab_type": "code",
        "colab": {}
      },
      "source": [
        ""
      ],
      "execution_count": null,
      "outputs": []
    },
    {
      "cell_type": "markdown",
      "metadata": {
        "id": "1GnnWq99PXa5",
        "colab_type": "text"
      },
      "source": [
        "1.Go to github website create account.\n",
        "2.After creating the account click on create repository.\n",
        "3.Enter the name of repository as LetsUpgrade AI-ML and description as Assaignment.\n",
        "4.Make sure it is in public and click on create it.\n",
        "5.Save the notebook file in  your local machine.\n",
        "6.Open the repository and click on upload the files and drag the assaignment of the day to the repository.\n",
        "7.Copy the link of the chrome and make sure you recieve an email from lets upgrade."
      ]
    }
  ]
}