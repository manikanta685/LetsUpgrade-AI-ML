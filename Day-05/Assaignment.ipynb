{
  "nbformat": 4,
  "nbformat_minor": 0,
  "metadata": {
    "colab": {
      "name": "Untitled3.ipynb",
      "provenance": []
    },
    "kernelspec": {
      "name": "python3",
      "display_name": "Python 3"
    }
  },
  "cells": [
    {
      "cell_type": "code",
      "metadata": {
        "id": "e_OwYXwRl7AI",
        "colab_type": "code",
        "colab": {
          "base_uri": "https://localhost:8080/",
          "height": 353
        },
        "outputId": "3babcbe4-f662-4f75-c953-6a493b97f239"
      },
      "source": [
        "count=0\n",
        "for i in range(3,1000): \n",
        "    if i > 1: \n",
        "        for n in range(2, i//2 + 2): \n",
        "            if (i % n) == 0: \n",
        "                break\n",
        "            else: \n",
        "                if n == i//2 + 1: \n",
        "                    print(i)\n",
        "                    count+=1\n",
        "    if count==20:\n",
        "      break\n",
        "\n",
        "\n"
      ],
      "execution_count": null,
      "outputs": [
        {
          "output_type": "stream",
          "text": [
            "3\n",
            "5\n",
            "7\n",
            "11\n",
            "13\n",
            "17\n",
            "19\n",
            "23\n",
            "29\n",
            "31\n",
            "37\n",
            "41\n",
            "43\n",
            "47\n",
            "53\n",
            "59\n",
            "61\n",
            "67\n",
            "71\n",
            "73\n"
          ],
          "name": "stdout"
        }
      ]
    },
    {
      "cell_type": "code",
      "metadata": {
        "id": "IqVCBbcLq7OB",
        "colab_type": "code",
        "colab": {
          "base_uri": "https://localhost:8080/",
          "height": 34
        },
        "outputId": "1c332df3-3b7d-47c8-9434-2324e0748172"
      },
      "source": [
        "a='grop of people'\n",
        "b='kill everyone'\n",
        "c=a.split()\n",
        "d=a+b\n",
        "e=b.index('kill')\n",
        "f=b.upper()\n",
        "g=a.find(\"of\")\n",
        "h=a.lower()\n",
        "i=a.isalpha()\n",
        "j=b.isalnum()\n",
        "k=a.replace(\"grop\",'group')\n",
        "l=b.isnumeric()\n",
        "m=a.capitalize()\n",
        "n=b.center(3)\n",
        "o=a.isdecimal()\n",
        "p=type(b)\n",
        "q=b.isprintable()\n",
        "print(c,d,e,f,g,h,i,j,k,l,m,n,o,p,q)"
      ],
      "execution_count": 13,
      "outputs": [
        {
          "output_type": "stream",
          "text": [
            "['grop', 'of', 'people'] grop of peoplekill everyone 0 KILL EVERYONE 5 grop of people False False group of people False Grop of people kill everyone False <class 'str'> True\n"
          ],
          "name": "stdout"
        }
      ]
    },
    {
      "cell_type": "code",
      "metadata": {
        "id": "nC8ncDq1FLqU",
        "colab_type": "code",
        "colab": {
          "base_uri": "https://localhost:8080/",
          "height": 84
        },
        "outputId": "33969638-ec03-4d13-ebe1-fea3665976a4"
      },
      "source": [
        "a=input(\"enter string1\")\n",
        "b=input(\"enter string2\")\n",
        "if(sorted(a)==sorted(b)):\n",
        "  print(\"strings are anagrams\")\n",
        "else:\n",
        "  print(\"strings are not anagrams\")\n",
        "if(a==a[::-1] and a==a[::-1]):\n",
        "  print(\"both are palindromes\")\n",
        "elif(a==a[::-1]):\n",
        "  print(\"string 1 is palindrome\")\n",
        "elif(b==b[::-1]):\n",
        "  print(\"string 2 is palindrome\")\n",
        "else:\n",
        "  print(\"both strings are not palindromes\")"
      ],
      "execution_count": 15,
      "outputs": [
        {
          "output_type": "stream",
          "text": [
            "enter string1raw\n",
            "enter string2war\n",
            "strings are anagrams\n",
            "both strings are not palindromes\n"
          ],
          "name": "stdout"
        }
      ]
    },
    {
      "cell_type": "code",
      "metadata": {
        "id": "1kYqidJaI1FU",
        "colab_type": "code",
        "colab": {
          "base_uri": "https://localhost:8080/",
          "height": 50
        },
        "outputId": "a9e3c229-6049-4dd2-dca9-31e78aa4cb1d"
      },
      "source": [
        "a=input(\"enter string\")\n",
        "for i in a:\n",
        "  if not(i.isalpha()):\n",
        "    a=a.replace(i,\"\")\n",
        "print(a.lower())\n",
        "\n"
      ],
      "execution_count": 22,
      "outputs": [
        {
          "output_type": "stream",
          "text": [
            "enter string\"Dr. Darshan Ingle @AI-ML Trainer\",\n",
            "drdarshaningleaimltrainer\n"
          ],
          "name": "stdout"
        }
      ]
    },
    {
      "cell_type": "code",
      "metadata": {
        "id": "HMFxQVsSJa0p",
        "colab_type": "code",
        "colab": {}
      },
      "source": [
        ""
      ],
      "execution_count": null,
      "outputs": []
    }
  ]
}