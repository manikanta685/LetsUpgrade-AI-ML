{
  "nbformat": 4,
  "nbformat_minor": 0,
  "metadata": {
    "colab": {
      "name": "Untitled5.ipynb",
      "provenance": []
    },
    "kernelspec": {
      "name": "python3",
      "display_name": "Python 3"
    }
  },
  "cells": [
    {
      "cell_type": "code",
      "metadata": {
        "id": "nVYAWnPg6fu0",
        "colab_type": "code",
        "colab": {}
      },
      "source": [
        "import matplotlib.pyplot as plt\n",
        "import pandas as pd\n",
        "import seaborn as sns\n",
        "from scipy.stats import pearsonr\n",
        "data=pd.read_csv('D:\\LetsUpgrade\\Day-11\\general_data.csv')\n",
        "data=data.drop_duplicates()\n",
        "print(data.head())\n",
        "print(data.isnull().sum())\n",
        "data=data.dropna(axis=0)\n",
        "print(data.columns)\n",
        "print(data.isnull().sum())\n",
        "print(data.dtypes)\n",
        "print(data.describe())\n",
        "# Reassign target\n",
        "data.Attrition.replace(to_replace = dict(Yes = 1, No = 0), inplace = True)\n",
        "# Drop useless feat\n",
        "data = data.drop(columns=['StandardHours', \n",
        "                          'EmployeeCount', \n",
        "                          'Over18','EmployeeID'\n",
        "                        ])\n",
        "print(data.head())\n",
        "Attrition_people=data[data['Attrition']==1]\n",
        "k=Attrition_people.describe()\n",
        "non_Att_p=data[data['Attrition']==0]\n",
        "f=non_Att_p.describe()\n",
        "col=['Age','DistanceFromHome','JobLevel','MonthlyIncome','PercentSalaryHike','YearsSinceLastPromotion']\n",
        "print(\"MEDIAN and MEAN OF CHURNED AND STAYED \")\n",
        "for i in col:\n",
        "    print(\"churned :\",str(i))\n",
        "    print(Attrition_people[i].median(),Attrition_people[i].mean())\n",
        "    print(\"Stayed :\",str(i))\n",
        "    print(non_Att_p[i].median(),non_Att_p[i].mean())\n",
        "#r,p=pearsonr(data.Education,data.Attrition)\n",
        "#print(r)\n",
        "plt.figure(figsize=(30,30))\n",
        "corr=data.corr()\n",
        "sns.heatmap(corr,annot=True)\n",
        "plt.show()\n",
        "'''FROM THE HEATMAP WE CAN TELL THE ATTRITION IS POSITIVELY CORRELATED WITH PERCENT SALARY HIKE AND NUMCOMPANIES WORKED\n",
        "AND NEGATIVELY CORRELATED WITH ALL OTHER VARIABLES CONSIDERED  AND THE VARIABLES ARE HAVING WEAK CORRELATION\n",
        "BY COMPARING THE F AND K DATAFRAMES WE CAN GET DESCRIPTIVE ANALYSIS OF DATA\n",
        "EMPLOYEE WITH AGE MEAN OF 33 ARE LIKELY TO CHURN AND DISTANCE FROM HOME >7 LIKELY TO CHURN\n"
      ],
      "execution_count": null,
      "outputs": []
    }
  ]
}