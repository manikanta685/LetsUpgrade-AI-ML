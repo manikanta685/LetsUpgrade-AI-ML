{
  "nbformat": 4,
  "nbformat_minor": 0,
  "metadata": {
    "colab": {
      "name": "Untitled1.ipynb",
      "provenance": []
    },
    "kernelspec": {
      "name": "python3",
      "display_name": "Python 3"
    }
  },
  "cells": [
    {
      "cell_type": "code",
      "metadata": {
        "id": "IvYYb8wOTpON",
        "colab_type": "code",
        "colab": {
          "base_uri": "https://localhost:8080/",
          "height": 34
        },
        "outputId": "770daea4-1c6c-4670-a908-f81a41525eff"
      },
      "source": [
        "a=complex(2,3)\n",
        "b=complex(4,6)\n",
        "add=a+b\n",
        "sub=a-b\n",
        "mul=a*b\n",
        "div=a/b\n",
        "#fdiv=a//b ->floor division cannot be done for complex numbers\n",
        "#mol=a%b   ->modulo operation cannot be done for complex numbers\n",
        "print(add,sub,mul,div)"
      ],
      "execution_count": 4,
      "outputs": [
        {
          "output_type": "stream",
          "text": [
            "(6+9j) (-2-3j) (-10+24j) (0.5+0j)"
          ],
          "name": "stdout"
        }
      ]
    },
    {
      "cell_type": "code",
      "metadata": {
        "id": "IEcxwpF1Wks2",
        "colab_type": "code",
        "colab": {}
      },
      "source": [
        " "
      ],
      "execution_count": null,
      "outputs": []
    },
    {
      "cell_type": "markdown",
      "metadata": {
        "id": "w8xXvD-XXM--",
        "colab_type": "text"
      },
      "source": [
        "**range(start,stop,increment)**\n",
        "1.range function is used to return sequece of nubers.\n",
        "2.By default starts is assaigned 0 and up to stop.\n"
      ]
    },
    {
      "cell_type": "code",
      "metadata": {
        "id": "AVpvOHK2bh1h",
        "colab_type": "code",
        "colab": {
          "base_uri": "https://localhost:8080/",
          "height": 67
        },
        "outputId": "2f289fac-f725-4339-820d-f6cfc828ad68"
      },
      "source": [
        "c=range(2,5)\n",
        "for i in c:\n",
        "  print(i)"
      ],
      "execution_count": 7,
      "outputs": [
        {
          "output_type": "stream",
          "text": [
            "2\n",
            "3\n",
            "4\n"
          ],
          "name": "stdout"
        }
      ]
    },
    {
      "cell_type": "code",
      "metadata": {
        "id": "1ut2muHfbzqn",
        "colab_type": "code",
        "colab": {
          "base_uri": "https://localhost:8080/",
          "height": 34
        },
        "outputId": "7dcf3cbb-229c-45f3-f72c-b36902050596"
      },
      "source": [
        "a=25\n",
        "b=10\n",
        "if a-b>25:\n",
        "  print(a*b)\n",
        "else:\n",
        "  print(a/b)"
      ],
      "execution_count": 8,
      "outputs": [
        {
          "output_type": "stream",
          "text": [
            "2.5\n"
          ],
          "name": "stdout"
        }
      ]
    },
    {
      "cell_type": "code",
      "metadata": {
        "id": "iVqIeik2Y4jr",
        "colab_type": "code",
        "colab": {
          "base_uri": "https://localhost:8080/",
          "height": 34
        },
        "outputId": "2dfa10be-13c5-4f1d-bc50-ce2f8721a9b1"
      },
      "source": [
        "c=[2,3,4,5,6,7,8,9,10,11]\n",
        "for i in range(len(c)):\n",
        "  if c[i]%2==0:\n",
        "    c[i]=c[i]**2-2\n",
        "print(c)"
      ],
      "execution_count": 4,
      "outputs": [
        {
          "output_type": "stream",
          "text": [
            "[2, 3, 14, 5, 34, 7, 62, 9, 98, 11]\n"
          ],
          "name": "stdout"
        }
      ]
    },
    {
      "cell_type": "code",
      "metadata": {
        "id": "PpyQMiFNZb-b",
        "colab_type": "code",
        "colab": {
          "base_uri": "https://localhost:8080/",
          "height": 67
        },
        "outputId": "2b413591-ed41-4ac4-ee26-4df21bffded0"
      },
      "source": [
        "c=[12,3,104,5,16,70,8,9,10,11]\n",
        "for i in c:\n",
        "  i=i/2\n",
        "  if i>7:\n",
        "      print(i)"
      ],
      "execution_count": 11,
      "outputs": [
        {
          "output_type": "stream",
          "text": [
            "52.0\n",
            "8.0\n",
            "35.0\n"
          ],
          "name": "stdout"
        }
      ]
    }
  ]
}