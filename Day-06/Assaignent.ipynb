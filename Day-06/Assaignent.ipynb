{
  "nbformat": 4,
  "nbformat_minor": 0,
  "metadata": {
    "colab": {
      "name": "Untitled4.ipynb",
      "provenance": []
    },
    "kernelspec": {
      "name": "python3",
      "display_name": "Python 3"
    }
  },
  "cells": [
    {
      "cell_type": "code",
      "metadata": {
        "id": "LY3LgY2IV3KN",
        "colab_type": "code",
        "colab": {
          "base_uri": "https://localhost:8080/",
          "height": 50
        },
        "outputId": "dfa75576-641d-496b-85cc-9f03d871eef1"
      },
      "source": [
        "a=input(\"enter string\")\n",
        "print(a[a.find(\"@\")+1:-4])"
      ],
      "execution_count": 10,
      "outputs": [
        {
          "output_type": "stream",
          "text": [
            "enter stringjohn@google.com\n",
            "google\n"
          ],
          "name": "stdout"
        }
      ]
    },
    {
      "cell_type": "code",
      "metadata": {
        "id": "MPvGNgdGXSnU",
        "colab_type": "code",
        "colab": {
          "base_uri": "https://localhost:8080/",
          "height": 50
        },
        "outputId": "e1653017-de1b-4b90-8210-647e6b3c229e"
      },
      "source": [
        "a=input().split(',')\n",
        "print(\",\".join(sorted(list(set(a)))))\n"
      ],
      "execution_count": 19,
      "outputs": [
        {
          "output_type": "stream",
          "text": [
            "without,hello,bag,world\n",
            "bag,hello,without,world\n"
          ],
          "name": "stdout"
        }
      ]
    },
    {
      "cell_type": "code",
      "metadata": {
        "id": "gq2_6N4Kpy_1",
        "colab_type": "code",
        "colab": {
          "base_uri": "https://localhost:8080/",
          "height": 34
        },
        "outputId": "b93e08b1-1e9c-4650-be75-15c863f2b00a"
      },
      "source": [
        "a={'komal','mango'}\n",
        "b={'i','like','mango'}\n",
        "a.add('killed')\n",
        "c=a.copy()\n",
        "d=b.intersection(a)\n",
        "e=a.difference(b)\n",
        "f=b.discard('i')\n",
        "g=b.pop()\n",
        "h=a.union(b)\n",
        "print(c,d,e,f,g,h,i)"
      ],
      "execution_count": 45,
      "outputs": [
        {
          "output_type": "stream",
          "text": [
            "{'mango', 'killed', 'komal'} {'mango'} {'killed', 'komal'} None like {'mango', 'killed', 'komal'} None\n"
          ],
          "name": "stdout"
        }
      ]
    },
    {
      "cell_type": "code",
      "metadata": {
        "id": "0ayy4mNWY_GZ",
        "colab_type": "code",
        "colab": {
          "base_uri": "https://localhost:8080/",
          "height": 50
        },
        "outputId": "287cd106-bfeb-4426-f169-d923d2effb91"
      },
      "source": [
        "a=list(map(int,input().split()))\n",
        "b=a.copy()\n",
        "for i in range(min(a),max(a)):\n",
        "  if i not in b:\n",
        "    print(i,end=' ')"
      ],
      "execution_count": 35,
      "outputs": [
        {
          "output_type": "stream",
          "text": [
            "1 4 3 5 6\n",
            "2"
          ],
          "name": "stdout"
        }
      ]
    },
    {
      "cell_type": "code",
      "metadata": {
        "id": "PwbsyyMRpCNW",
        "colab_type": "code",
        "colab": {
          "base_uri": "https://localhost:8080/",
          "height": 50
        },
        "outputId": "890cb366-3726-4856-a731-2937d7af3967"
      },
      "source": [
        "a=list(map(int,input().split()))\n",
        "k=[]\n",
        "for i in a:\n",
        "  if i not in k:\n",
        "    k.append(i)\n",
        "print(k,end=' ')"
      ],
      "execution_count": 34,
      "outputs": [
        {
          "output_type": "stream",
          "text": [
            "12 24 35 24 88 120 155 88 120 155\n",
            "[12, 24, 35, 88, 120, 155] "
          ],
          "name": "stdout"
        }
      ]
    }
  ]
}