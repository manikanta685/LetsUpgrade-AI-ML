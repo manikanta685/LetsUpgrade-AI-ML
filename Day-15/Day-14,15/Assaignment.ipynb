{
  "nbformat": 4,
  "nbformat_minor": 0,
  "metadata": {
    "kernelspec": {
      "display_name": "Python 3",
      "language": "python",
      "name": "python3"
    },
    "language_info": {
      "codemirror_mode": {
        "name": "ipython",
        "version": 3
      },
      "file_extension": ".py",
      "mimetype": "text/x-python",
      "name": "python",
      "nbconvert_exporter": "python",
      "pygments_lexer": "ipython3",
      "version": "3.7.4"
    },
    "colab": {
      "name": "Numpy Assignment Questions 23 july 2020- Lets Upgrade.ipynb",
      "provenance": []
    }
  },
  "cells": [
    {
      "cell_type": "markdown",
      "metadata": {
        "id": "v7J7_hbzJNtA",
        "colab_type": "text"
      },
      "source": [
        "# 1. Create a 3x3x3 array with random values "
      ]
    },
    {
      "cell_type": "code",
      "metadata": {
        "id": "iMoxwNJbJNtE",
        "colab_type": "code",
        "colab": {
          "base_uri": "https://localhost:8080/",
          "height": 67
        },
        "outputId": "78f848cc-614b-46e9-de1e-9be0998eda51"
      },
      "source": [
        "import numpy as np\n",
        "n=np.random.random((3,3))\n",
        "n"
      ],
      "execution_count": 4,
      "outputs": [
        {
          "output_type": "execute_result",
          "data": {
            "text/plain": [
              "array([[0.08284511, 0.29205375, 0.79017925],\n",
              "       [0.15705426, 0.03335289, 0.7610023 ],\n",
              "       [0.51226259, 0.48433545, 0.98186312]])"
            ]
          },
          "metadata": {
            "tags": []
          },
          "execution_count": 4
        }
      ]
    },
    {
      "cell_type": "markdown",
      "metadata": {
        "id": "XdcAsz72JNtR",
        "colab_type": "text"
      },
      "source": [
        "# 2.Create a 5x5 matrix with values 1,2,3,4 just below the diagonal"
      ]
    },
    {
      "cell_type": "code",
      "metadata": {
        "id": "CpEKwOGyJNtT",
        "colab_type": "code",
        "colab": {
          "base_uri": "https://localhost:8080/",
          "height": 101
        },
        "outputId": "5952b9d9-4929-48ab-e6bb-0f84815638fa"
      },
      "source": [
        "import numpy as np\n",
        "n= np.diag(1+np.arange(4), k = -1)\n",
        "n"
      ],
      "execution_count": 5,
      "outputs": [
        {
          "output_type": "execute_result",
          "data": {
            "text/plain": [
              "array([[0, 0, 0, 0, 0],\n",
              "       [1, 0, 0, 0, 0],\n",
              "       [0, 2, 0, 0, 0],\n",
              "       [0, 0, 3, 0, 0],\n",
              "       [0, 0, 0, 4, 0]])"
            ]
          },
          "metadata": {
            "tags": []
          },
          "execution_count": 5
        }
      ]
    },
    {
      "cell_type": "markdown",
      "metadata": {
        "id": "t-t8MbRmJNtd",
        "colab_type": "text"
      },
      "source": [
        "# 3.Create a 8x8 matrix and fill it with a checkerboard pattern"
      ]
    },
    {
      "cell_type": "code",
      "metadata": {
        "id": "HDtkt-RCJNtf",
        "colab_type": "code",
        "colab": {
          "base_uri": "https://localhost:8080/",
          "height": 151
        },
        "outputId": "555a1123-e8bb-43a3-8a0d-6255b3e12ef3"
      },
      "source": [
        "import numpy as np\n",
        "n= np.zeros((8,8))\n",
        "n[1::2,::2] = 1\n",
        "n[::2,1::2] = 1\n",
        "n"
      ],
      "execution_count": 7,
      "outputs": [
        {
          "output_type": "execute_result",
          "data": {
            "text/plain": [
              "array([[0., 1., 0., 1., 0., 1., 0., 1.],\n",
              "       [1., 0., 1., 0., 1., 0., 1., 0.],\n",
              "       [0., 1., 0., 1., 0., 1., 0., 1.],\n",
              "       [1., 0., 1., 0., 1., 0., 1., 0.],\n",
              "       [0., 1., 0., 1., 0., 1., 0., 1.],\n",
              "       [1., 0., 1., 0., 1., 0., 1., 0.],\n",
              "       [0., 1., 0., 1., 0., 1., 0., 1.],\n",
              "       [1., 0., 1., 0., 1., 0., 1., 0.]])"
            ]
          },
          "metadata": {
            "tags": []
          },
          "execution_count": 7
        }
      ]
    },
    {
      "cell_type": "markdown",
      "metadata": {
        "id": "oRm1H2ZvJNtn",
        "colab_type": "text"
      },
      "source": [
        "# 4. Normalize a 5x5 random matrix"
      ]
    },
    {
      "cell_type": "code",
      "metadata": {
        "id": "zek81fMuJNto",
        "colab_type": "code",
        "colab": {
          "base_uri": "https://localhost:8080/",
          "height": 101
        },
        "outputId": "dfae6b76-7893-4586-e4c0-742fc2be8674"
      },
      "source": [
        "n= np.random.random((5,5))\n",
        "nmax, nmin = n.max(), n.min()\n",
        "n = (n - nmin)/(nmax - nmin)\n",
        "n"
      ],
      "execution_count": 9,
      "outputs": [
        {
          "output_type": "execute_result",
          "data": {
            "text/plain": [
              "array([[0.04030543, 0.        , 0.87562908, 0.97067626, 0.77732578],\n",
              "       [0.46507342, 0.95438343, 0.07626521, 0.83821148, 0.98862598],\n",
              "       [0.74285537, 0.48483745, 0.54259147, 0.332879  , 0.96597532],\n",
              "       [0.67692767, 0.89857172, 0.45354927, 1.        , 0.64912887],\n",
              "       [0.96914405, 0.05560831, 0.65824992, 0.26595873, 0.82824519]])"
            ]
          },
          "metadata": {
            "tags": []
          },
          "execution_count": 9
        }
      ]
    },
    {
      "cell_type": "markdown",
      "metadata": {
        "id": "BQItIzVzJNtv",
        "colab_type": "text"
      },
      "source": [
        "# 5.  How to find common values between two arrays?"
      ]
    },
    {
      "cell_type": "code",
      "metadata": {
        "id": "JlGf0tlhJNtw",
        "colab_type": "code",
        "colab": {
          "base_uri": "https://localhost:8080/",
          "height": 34
        },
        "outputId": "055ae354-1f8c-4cbd-ab75-d690a725113b"
      },
      "source": [
        "import numpy as np\n",
        "n=np.array([1,2,3,4,5])\n",
        "m=np.array([2,3,6,78,9])\n",
        "print(np.intersect1d(n,m))"
      ],
      "execution_count": 13,
      "outputs": [
        {
          "output_type": "stream",
          "text": [
            "[2 3]\n"
          ],
          "name": "stdout"
        }
      ]
    },
    {
      "cell_type": "markdown",
      "metadata": {
        "id": "kIMeVExTJNt0",
        "colab_type": "text"
      },
      "source": [
        "# 6.How to get the dates of yesterday, today and tomorrow?"
      ]
    },
    {
      "cell_type": "code",
      "metadata": {
        "id": "7ixUQGhtJNt1",
        "colab_type": "code",
        "colab": {
          "base_uri": "https://localhost:8080/",
          "height": 67
        },
        "outputId": "4ddc3a08-cf6f-4f38-bcd1-410afa36db8a"
      },
      "source": [
        "import numpy as np\n",
        "yesterday = np.datetime64('today', 'D') - np.timedelta64(1, 'D')\n",
        "print(\"Yestraday: \",yesterday)\n",
        "today     = np.datetime64('today', 'D')\n",
        "print(\"Today: \",today)\n",
        "tomorrow  = np.datetime64('today', 'D') + np.timedelta64(1, 'D')\n",
        "print(\"Tomorrow: \",tomorrow)"
      ],
      "execution_count": 14,
      "outputs": [
        {
          "output_type": "stream",
          "text": [
            "Yestraday:  2020-08-01\n",
            "Today:  2020-08-02\n",
            "Tomorrow:  2020-08-03\n"
          ],
          "name": "stdout"
        }
      ]
    },
    {
      "cell_type": "markdown",
      "metadata": {
        "id": "ljHsQtzKJNt7",
        "colab_type": "text"
      },
      "source": [
        "# 7. Consider two random array A and B, check if they are equal"
      ]
    },
    {
      "cell_type": "code",
      "metadata": {
        "id": "SLl4fKIeJNt7",
        "colab_type": "code",
        "colab": {
          "base_uri": "https://localhost:8080/",
          "height": 34
        },
        "outputId": "38b1b6c2-0e12-4866-e6fa-e94a9c58a931"
      },
      "source": [
        "n=np.array([1,2,3,4,5])\n",
        "m=np.array([2,3,6,78,9])\n",
        "print((n==m).all())"
      ],
      "execution_count": 16,
      "outputs": [
        {
          "output_type": "stream",
          "text": [
            "False\n"
          ],
          "name": "stdout"
        }
      ]
    },
    {
      "cell_type": "markdown",
      "metadata": {
        "id": "aAuh5zQkJNt_",
        "colab_type": "text"
      },
      "source": [
        "# 8.Create random vector of size 10 and replace the maximum value by 0 "
      ]
    },
    {
      "cell_type": "code",
      "metadata": {
        "id": "u0QDuQzMJNuA",
        "colab_type": "code",
        "colab": {
          "base_uri": "https://localhost:8080/",
          "height": 84
        },
        "outputId": "4e76ec7e-bfb9-414e-d4b8-6ca80958f40d"
      },
      "source": [
        "n=np.random.random(10)\n",
        "print(n)\n",
        "n[n.argmax()]=0\n",
        "n"
      ],
      "execution_count": 17,
      "outputs": [
        {
          "output_type": "stream",
          "text": [
            "[0.92768515 0.93287335 0.47514422 0.94705827 0.82064027 0.77467997\n",
            " 0.4945804  0.18416331 0.67823743 0.40462762]\n"
          ],
          "name": "stdout"
        },
        {
          "output_type": "execute_result",
          "data": {
            "text/plain": [
              "array([0.92768515, 0.93287335, 0.47514422, 0.        , 0.82064027,\n",
              "       0.77467997, 0.4945804 , 0.18416331, 0.67823743, 0.40462762])"
            ]
          },
          "metadata": {
            "tags": []
          },
          "execution_count": 17
        }
      ]
    },
    {
      "cell_type": "markdown",
      "metadata": {
        "id": "XwE2PPtkJNuD",
        "colab_type": "text"
      },
      "source": [
        "# 9. How to print all the values of an array?"
      ]
    },
    {
      "cell_type": "code",
      "metadata": {
        "id": "Slx9YR10JNuE",
        "colab_type": "code",
        "colab": {
          "base_uri": "https://localhost:8080/",
          "height": 84
        },
        "outputId": "49dcbd27-5398-40f6-9151-f0d646e15045"
      },
      "source": [
        "np.set_printoptions()\n",
        "n = np.zeros((4, 4))\n",
        "n"
      ],
      "execution_count": 18,
      "outputs": [
        {
          "output_type": "execute_result",
          "data": {
            "text/plain": [
              "array([[0., 0., 0., 0.],\n",
              "       [0., 0., 0., 0.],\n",
              "       [0., 0., 0., 0.],\n",
              "       [0., 0., 0., 0.]])"
            ]
          },
          "metadata": {
            "tags": []
          },
          "execution_count": 18
        }
      ]
    },
    {
      "cell_type": "markdown",
      "metadata": {
        "id": "CvhywXsgJNuH",
        "colab_type": "text"
      },
      "source": [
        "# 10.Subtract the mean of each row of a matrix"
      ]
    },
    {
      "cell_type": "code",
      "metadata": {
        "id": "UKoh8_NzJNuI",
        "colab_type": "code",
        "colab": {
          "base_uri": "https://localhost:8080/",
          "height": 118
        },
        "outputId": "bb909152-215c-411c-85fc-12e650f91025"
      },
      "source": [
        "n=np.random.random((3,3))\n",
        "print(n)\n",
        "m=n-n.mean(axis=1)\n",
        "m"
      ],
      "execution_count": 19,
      "outputs": [
        {
          "output_type": "stream",
          "text": [
            "[[0.39395686 0.77087736 0.31883441]\n",
            " [0.07372653 0.04210957 0.03395441]\n",
            " [0.09473081 0.61329806 0.34864277]]\n"
          ],
          "name": "stdout"
        },
        {
          "output_type": "execute_result",
          "data": {
            "text/plain": [
              "array([[-0.10059935,  0.72094719, -0.03338947],\n",
              "       [-0.42082968, -0.0078206 , -0.31826947],\n",
              "       [-0.3998254 ,  0.56336789, -0.00358111]])"
            ]
          },
          "metadata": {
            "tags": []
          },
          "execution_count": 19
        }
      ]
    },
    {
      "cell_type": "markdown",
      "metadata": {
        "id": "pxAa9BRBJNuM",
        "colab_type": "text"
      },
      "source": [
        "# 11.Consider a given vector, how to add 1 to each element indexed by a second vector (be careful with repeated indices)? "
      ]
    },
    {
      "cell_type": "code",
      "metadata": {
        "id": "QfARWHr6JNuM",
        "colab_type": "code",
        "colab": {
          "base_uri": "https://localhost:8080/",
          "height": 34
        },
        "outputId": "c370b95b-98e2-4aec-b693-4711baff7ff9"
      },
      "source": [
        "n = np.ones(10)\n",
        "m = np.random.randint(0,len(n),20)\n",
        "np.add.at(n, m, 1)\n",
        "print(n)"
      ],
      "execution_count": 20,
      "outputs": [
        {
          "output_type": "stream",
          "text": [
            "[4. 4. 1. 5. 2. 5. 2. 3. 1. 3.]\n"
          ],
          "name": "stdout"
        }
      ]
    },
    {
      "cell_type": "code",
      "metadata": {
        "id": "NpAVMRltJNuP",
        "colab_type": "code",
        "colab": {}
      },
      "source": [
        ""
      ],
      "execution_count": null,
      "outputs": []
    },
    {
      "cell_type": "markdown",
      "metadata": {
        "id": "HiuPiLmrJNuS",
        "colab_type": "text"
      },
      "source": [
        "# 12.How to get the diagonal of a dot product?"
      ]
    },
    {
      "cell_type": "code",
      "metadata": {
        "id": "FJi6G_tRJNuS",
        "colab_type": "code",
        "colab": {
          "base_uri": "https://localhost:8080/",
          "height": 34
        },
        "outputId": "418c53cc-2e9e-4d88-cbe8-314ccf7dfc78"
      },
      "source": [
        "n = np.random.randint(0,10,(4,4))\n",
        "m= np.random.randint(0,10,(4,4))\n",
        "np.diag(np.dot(n, m))"
      ],
      "execution_count": 21,
      "outputs": [
        {
          "output_type": "execute_result",
          "data": {
            "text/plain": [
              "array([33, 37, 88, 60])"
            ]
          },
          "metadata": {
            "tags": []
          },
          "execution_count": 21
        }
      ]
    },
    {
      "cell_type": "markdown",
      "metadata": {
        "id": "M3Mlnc6LJNuV",
        "colab_type": "text"
      },
      "source": [
        "# 13.How to find the most frequent value in an array?"
      ]
    },
    {
      "cell_type": "code",
      "metadata": {
        "id": "0l8y7ZuWJNuW",
        "colab_type": "code",
        "colab": {
          "base_uri": "https://localhost:8080/",
          "height": 34
        },
        "outputId": "fcc4227b-85d7-48ff-ab01-55a41246483c"
      },
      "source": [
        "\n",
        "n=np.array([1,2,3,4,2,11,2,2,2,2,2,1])\n",
        "print(np.bincount(n).argmax())"
      ],
      "execution_count": 30,
      "outputs": [
        {
          "output_type": "stream",
          "text": [
            "2\n"
          ],
          "name": "stdout"
        }
      ]
    },
    {
      "cell_type": "markdown",
      "metadata": {
        "id": "yOhw84gHJNuZ",
        "colab_type": "text"
      },
      "source": [
        "# 14.How to get the n largest values of an array"
      ]
    },
    {
      "cell_type": "code",
      "metadata": {
        "id": "mkZ1KqMLJNuZ",
        "colab_type": "code",
        "colab": {
          "base_uri": "https://localhost:8080/",
          "height": 34
        },
        "outputId": "4960eadc-343b-4268-f923-f32bf4fdb2fa"
      },
      "source": [
        "n=np.array([1,2,3,4,2,11,2,2,2,2,2,1])\n",
        "m=1\n",
        "print (n[np.argpartition(-n,m)[:m]])"
      ],
      "execution_count": 36,
      "outputs": [
        {
          "output_type": "stream",
          "text": [
            "[11]\n"
          ],
          "name": "stdout"
        }
      ]
    },
    {
      "cell_type": "markdown",
      "metadata": {
        "id": "X4h1Gd95JNud",
        "colab_type": "text"
      },
      "source": [
        "# 15.How to create a record array from a regular array?"
      ]
    },
    {
      "cell_type": "code",
      "metadata": {
        "id": "Eg2GqmryJNue",
        "colab_type": "code",
        "colab": {
          "base_uri": "https://localhost:8080/",
          "height": 34
        },
        "outputId": "ce3e2ea3-65cf-4ce9-d0be-6ac78d926c9b"
      },
      "source": [
        "n = np.array([(\"Hi\", 2.5, 3),(\"mani\", 3.6, 2)])\n",
        "m = np.core.records.fromarrays(n.T,\n",
        "names='col1, col2, col3',\n",
        "formats = 'S8, f8, i8')\n",
        "print(m)"
      ],
      "execution_count": 39,
      "outputs": [
        {
          "output_type": "stream",
          "text": [
            "[(b'Hi', 2.5, 3) (b'mani', 3.6, 2)]\n"
          ],
          "name": "stdout"
        }
      ]
    },
    {
      "cell_type": "code",
      "metadata": {
        "id": "br4lU9N4JNuh",
        "colab_type": "code",
        "colab": {}
      },
      "source": [
        ""
      ],
      "execution_count": null,
      "outputs": []
    }
  ]
}